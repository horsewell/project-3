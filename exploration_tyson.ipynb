{
 "cells": [
  {
   "cell_type": "code",
   "execution_count": null,
   "id": "d8161527",
   "metadata": {},
   "outputs": [],
   "source": [
    "%matplotlib inline"
   ]
  },
  {
   "cell_type": "code",
   "execution_count": null,
   "id": "73495f43",
   "metadata": {},
   "outputs": [],
   "source": [
    "import pandas as pd\n",
    "from ipywidgets import interact\n",
    "import matplotlib.pyplot as plt"
   ]
  },
  {
   "cell_type": "code",
   "execution_count": null,
   "id": "1112c4ef",
   "metadata": {},
   "outputs": [],
   "source": [
    "# load data\n",
    "pd.set_option('display.max_rows', 20)\n",
    "stockCodes = [\"AMZN\", \"APPL\", \"META\", \"NFLX\"]\n",
    "stocks_df = pd.DataFrame()\n",
    "\n",
    "for stockCode in stockCodes:\n",
    "    df = pd.read_csv(f\"Resources/{stockCode}-HistoricalData.csv\")\n",
    "    df = df.rename(columns={'Close/Last': 'Close'})\n",
    "    df['StockCode'] = stockCode\n",
    "    df['Date'] = pd.to_datetime(df['Date'])\n",
    "    df['Date'] = df['Date'].dt.strftime('%Y-%m-%d')\n",
    "    df['Close'] = df['Close'].str.replace('$', '')\n",
    "    df['Open'] = df['Open'].str.replace('$', '')\n",
    "    df['High'] = df['High'].str.replace('$', '')\n",
    "    df['Low'] = df['Low'].str.replace('$', '')\n",
    "    df = df.convert_dtypes()\n",
    "    #display(df)\n",
    "    stocks_df = pd.concat([stocks_df,df])\n",
    "\n",
    "stocks_df[['Close','Open','High','Low']] = stocks_df[['Close','Open','High','Low']].astype(float)\n",
    "stocks_df['Date'] = pd.to_datetime(stocks_df['Date'], format='%Y-%m-%d')\n",
    "\n",
    "display(stocks_df.dtypes)\n",
    "display(stocks_df)\n",
    "\n",
    "# save the CSV in one file\n",
    "#stocks_df.to_csv(f\"Resources/clean-HisotricalData.csv\",mode = 'w', index=False)"
   ]
  },
  {
   "cell_type": "code",
   "execution_count": null,
   "id": "60f277f4",
   "metadata": {},
   "outputs": [],
   "source": [
    "pd.set_option('display.max_rows', None)\n",
    "stocks = dict()\n",
    "stocks_monthly_df = None\n",
    "stocks_monthly_df = stocks_df.copy()\n",
    "stocks_monthly_df = stocks_monthly_df.set_index('Date')\n",
    "stocks_monthly_df = stocks_monthly_df.sort_index()\n",
    "for stockCode in stockCodes: \n",
    "    stocks[stockCode] = stocks_monthly_df.loc[stocks_monthly_df['StockCode'] == stockCode, 'Close':'Low'].resample('M').var()\n",
    "\n",
    "\"\"\"\n",
    "for stock in stocks:\n",
    "    print('+++++ '+ stock)\n",
    "    print(stocks[stock])\n",
    "\"\"\""
   ]
  },
  {
   "cell_type": "code",
   "execution_count": null,
   "id": "5950743a",
   "metadata": {},
   "outputs": [],
   "source": [
    "\n",
    "#for stock in stocks:\n",
    "#    stocks[stock].plot.line(y=['High','Low'], figsize=(14,6), title=stock, xlabel='Dates', ylabel='High & Low Variance')\n",
    "#plt.show()"
   ]
  },
  {
   "cell_type": "code",
   "execution_count": null,
   "id": "9556f7ed",
   "metadata": {},
   "outputs": [],
   "source": [
    "current_stock = 'APPL'\n",
    "fig, ax = plt.subplots(figsize=(14,6))\n",
    "plt.title(f\"variance for high&low price vs Volume for {current_stock}\")\n",
    "\n",
    "stocks[current_stock].plot(y=['High','Low'], ax = ax, ylabel='High & Low')\n",
    "stocks[current_stock].plot(y=['Volume'], ax = ax, secondary_y=True, ylabel='Volume')\n",
    "\n",
    "plt.show()"
   ]
  }
 ],
 "metadata": {
  "kernelspec": {
   "display_name": "Python 3 (ipykernel)",
   "language": "python",
   "name": "python3"
  },
  "language_info": {
   "codemirror_mode": {
    "name": "ipython",
    "version": 3
   },
   "file_extension": ".py",
   "mimetype": "text/x-python",
   "name": "python",
   "nbconvert_exporter": "python",
   "pygments_lexer": "ipython3",
   "version": "3.10.13"
  }
 },
 "nbformat": 4,
 "nbformat_minor": 5
}
