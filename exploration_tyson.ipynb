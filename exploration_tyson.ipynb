{
 "cells": [
  {
   "cell_type": "code",
   "execution_count": 1,
   "id": "d8161527",
   "metadata": {},
   "outputs": [],
   "source": [
    "#%pip install -q ipywidgets matplotlib\n",
    "%matplotlib inline"
   ]
  },
  {
   "cell_type": "code",
   "execution_count": 2,
   "id": "73495f43",
   "metadata": {},
   "outputs": [],
   "source": [
    "import pandas as pd\n",
    "from ipywidgets import interact\n",
    "import matplotlib.pyplot as plt"
   ]
  },
  {
   "cell_type": "code",
   "execution_count": 3,
   "id": "1112c4ef",
   "metadata": {},
   "outputs": [
    {
     "data": {
      "text/plain": [
       "Date         datetime64[ns]\n",
       "Close               float64\n",
       "Volume                Int64\n",
       "Open                float64\n",
       "High                float64\n",
       "Low                 float64\n",
       "StockCode    string[python]\n",
       "dtype: object"
      ]
     },
     "metadata": {},
     "output_type": "display_data"
    },
    {
     "data": {
      "text/html": [
       "<div>\n",
       "<style scoped>\n",
       "    .dataframe tbody tr th:only-of-type {\n",
       "        vertical-align: middle;\n",
       "    }\n",
       "\n",
       "    .dataframe tbody tr th {\n",
       "        vertical-align: top;\n",
       "    }\n",
       "\n",
       "    .dataframe thead th {\n",
       "        text-align: right;\n",
       "    }\n",
       "</style>\n",
       "<table border=\"1\" class=\"dataframe\">\n",
       "  <thead>\n",
       "    <tr style=\"text-align: right;\">\n",
       "      <th></th>\n",
       "      <th>Date</th>\n",
       "      <th>Close</th>\n",
       "      <th>Volume</th>\n",
       "      <th>Open</th>\n",
       "      <th>High</th>\n",
       "      <th>Low</th>\n",
       "      <th>StockCode</th>\n",
       "    </tr>\n",
       "  </thead>\n",
       "  <tbody>\n",
       "    <tr>\n",
       "      <th>0</th>\n",
       "      <td>2024-03-04</td>\n",
       "      <td>177.58</td>\n",
       "      <td>37381520</td>\n",
       "      <td>177.530</td>\n",
       "      <td>180.140</td>\n",
       "      <td>177.49</td>\n",
       "      <td>AMZN</td>\n",
       "    </tr>\n",
       "    <tr>\n",
       "      <th>1</th>\n",
       "      <td>2024-03-01</td>\n",
       "      <td>178.22</td>\n",
       "      <td>31981150</td>\n",
       "      <td>176.750</td>\n",
       "      <td>178.725</td>\n",
       "      <td>176.07</td>\n",
       "      <td>AMZN</td>\n",
       "    </tr>\n",
       "    <tr>\n",
       "      <th>2</th>\n",
       "      <td>2024-02-29</td>\n",
       "      <td>176.76</td>\n",
       "      <td>53805360</td>\n",
       "      <td>173.010</td>\n",
       "      <td>177.220</td>\n",
       "      <td>172.85</td>\n",
       "      <td>AMZN</td>\n",
       "    </tr>\n",
       "    <tr>\n",
       "      <th>3</th>\n",
       "      <td>2024-02-28</td>\n",
       "      <td>173.16</td>\n",
       "      <td>28180480</td>\n",
       "      <td>172.440</td>\n",
       "      <td>174.050</td>\n",
       "      <td>172.27</td>\n",
       "      <td>AMZN</td>\n",
       "    </tr>\n",
       "    <tr>\n",
       "      <th>4</th>\n",
       "      <td>2024-02-27</td>\n",
       "      <td>173.54</td>\n",
       "      <td>31141730</td>\n",
       "      <td>174.075</td>\n",
       "      <td>174.620</td>\n",
       "      <td>172.86</td>\n",
       "      <td>AMZN</td>\n",
       "    </tr>\n",
       "  </tbody>\n",
       "</table>\n",
       "</div>"
      ],
      "text/plain": [
       "        Date   Close    Volume     Open     High     Low StockCode\n",
       "0 2024-03-04  177.58  37381520  177.530  180.140  177.49      AMZN\n",
       "1 2024-03-01  178.22  31981150  176.750  178.725  176.07      AMZN\n",
       "2 2024-02-29  176.76  53805360  173.010  177.220  172.85      AMZN\n",
       "3 2024-02-28  173.16  28180480  172.440  174.050  172.27      AMZN\n",
       "4 2024-02-27  173.54  31141730  174.075  174.620  172.86      AMZN"
      ]
     },
     "metadata": {},
     "output_type": "display_data"
    }
   ],
   "source": [
    "# load data\n",
    "pd.set_option('display.max_rows', 20)\n",
    "stockCodes = [\"AMZN\", \"AAPL\", \"META\", \"NFLX\"]\n",
    "stocks_df = pd.DataFrame()\n",
    "\n",
    "# format the data correctly\n",
    "for stockCode in stockCodes:\n",
    "    df = pd.read_csv(f\"Resources/{stockCode}-HistoricalData.csv\")\n",
    "    df = df.rename(columns={'Close/Last': 'Close'})\n",
    "    df['StockCode'] = stockCode\n",
    "    df['Date'] = pd.to_datetime(df['Date'])\n",
    "    df['Date'] = df['Date'].dt.strftime('%Y-%m-%d')\n",
    "    df['Close'] = df['Close'].str.replace('$', '')\n",
    "    df['Open'] = df['Open'].str.replace('$', '')\n",
    "    df['High'] = df['High'].str.replace('$', '')\n",
    "    df['Low'] = df['Low'].str.replace('$', '')\n",
    "    df = df.convert_dtypes()\n",
    "    #display(df)\n",
    "    stocks_df = pd.concat([stocks_df,df])\n",
    "\n",
    "# convert the data types to be float for the numbers\n",
    "stocks_df[['Close','Open','High','Low']] = stocks_df[['Close','Open','High','Low']].astype(float)\n",
    "# convert the data to be correct\n",
    "stocks_df['Date'] = pd.to_datetime(stocks_df['Date'], format='%Y-%m-%d')\n",
    "\n",
    "display(stocks_df.dtypes)\n",
    "display(stocks_df.head())"
   ]
  },
  {
   "cell_type": "code",
   "execution_count": 4,
   "id": "60f277f4",
   "metadata": {},
   "outputs": [],
   "source": [
    "# get the average and variance of the monthly stock sample\n",
    "stocks = dict()\n",
    "stocks_monthly_df = None\n",
    "stocks_monthly_df = stocks_df.copy()\n",
    "stocks_monthly_df = stocks_monthly_df.set_index('Date')\n",
    "stocks_monthly_df = stocks_monthly_df.sort_index()\n",
    "for stockCode in stockCodes: \n",
    "    stocks[stockCode+'_mean'] = stocks_monthly_df.loc[stocks_monthly_df['StockCode'] == stockCode, 'Close':'Low'].resample('M').mean()\n",
    "    stocks[stockCode+'_var']  = stocks_monthly_df.loc[stocks_monthly_df['StockCode'] == stockCode, 'Close':'Low'].resample('M').var()"
   ]
  },
  {
   "cell_type": "code",
   "execution_count": 5,
   "id": "d9b58494",
   "metadata": {},
   "outputs": [
    {
     "data": {
      "application/vnd.jupyter.widget-view+json": {
       "model_id": "8014b23a17cc441caeaf83f7561b4c54",
       "version_major": 2,
       "version_minor": 0
      },
      "text/plain": [
       "interactive(children=(Dropdown(description='valuation', options=('High', 'Low', 'Open', 'Close'), value='High'…"
      ]
     },
     "metadata": {},
     "output_type": "display_data"
    }
   ],
   "source": [
    "#plot the graph\n",
    "def display_plot(valuation, statistical_method, current_stock):\n",
    "    fig, ax = plt.subplots(figsize=(14,6))\n",
    "    plt.title(f\"{statistical_method} for {valuation} price vs Volume for {current_stock}\")\n",
    "\n",
    "    if statistical_method=='Variance':\n",
    "        statistical_method = 'var'\n",
    "    elif statistical_method=='Average':\n",
    "        statistical_method = 'mean'\n",
    "\n",
    "    stocks[current_stock+'_'+statistical_method].plot(y=[valuation], ax = ax, ylabel=valuation)\n",
    "    stocks[current_stock+'_'+statistical_method].plot(y=['Volume'], ax = ax, secondary_y=True, ylabel='Volume')\n",
    "\n",
    "    plt.show()\n",
    "\n",
    "# make the graph interactive\n",
    "interact(display_plot, \n",
    "         valuation=[\n",
    "             'High',\n",
    "             'Low',\n",
    "             'Open',\n",
    "             'Close',\n",
    "         ],\n",
    "         statistical_method = [\n",
    "            'Variance',\n",
    "            'Average',\n",
    "         ],\n",
    "         current_stock=[\n",
    "             ('Amazon', 'AMZN'),\n",
    "             ('Apple', 'APPL'),\n",
    "             ('Netflix', 'NFLX'),\n",
    "             ('Meta', 'META'),\n",
    "         ]);"
   ]
  },
  {
   "cell_type": "code",
   "execution_count": null,
   "id": "8022bc95",
   "metadata": {},
   "outputs": [],
   "source": []
  }
 ],
 "metadata": {
  "kernelspec": {
   "display_name": "Python 3 (ipykernel)",
   "language": "python",
   "name": "python3"
  },
  "language_info": {
   "codemirror_mode": {
    "name": "ipython",
    "version": 3
   },
   "file_extension": ".py",
   "mimetype": "text/x-python",
   "name": "python",
   "nbconvert_exporter": "python",
   "pygments_lexer": "ipython3",
   "version": "3.10.13"
  }
 },
 "nbformat": 4,
 "nbformat_minor": 5
}
