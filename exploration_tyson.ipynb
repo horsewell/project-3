{
 "cells": [
  {
   "cell_type": "code",
   "execution_count": null,
   "id": "d8161527",
   "metadata": {},
   "outputs": [],
   "source": [
    "%pip install -q ipywidgets matplotlib\n",
    "%matplotlib inline"
   ]
  },
  {
   "cell_type": "code",
   "execution_count": null,
   "id": "73495f43",
   "metadata": {},
   "outputs": [],
   "source": [
    "import pandas as pd\n",
    "from ipywidgets import interact\n",
    "import matplotlib.pyplot as plt"
   ]
  },
  {
   "cell_type": "code",
   "execution_count": null,
   "id": "1112c4ef",
   "metadata": {},
   "outputs": [],
   "source": [
    "# load data\n",
    "pd.set_option('display.max_rows', 20)\n",
    "stockCodes = [\"AMZN\", \"APPL\", \"META\", \"NFLX\"]\n",
    "stocks_df = pd.DataFrame()\n",
    "\n",
    "# format the data correctly\n",
    "for stockCode in stockCodes:\n",
    "    df = pd.read_csv(f\"Resources/{stockCode}-HistoricalData.csv\")\n",
    "    df = df.rename(columns={'Close/Last': 'Close'})\n",
    "    df['StockCode'] = stockCode\n",
    "    df['Date'] = pd.to_datetime(df['Date'])\n",
    "    df['Date'] = df['Date'].dt.strftime('%Y-%m-%d')\n",
    "    df['Close'] = df['Close'].str.replace('$', '')\n",
    "    df['Open'] = df['Open'].str.replace('$', '')\n",
    "    df['High'] = df['High'].str.replace('$', '')\n",
    "    df['Low'] = df['Low'].str.replace('$', '')\n",
    "    df = df.convert_dtypes()\n",
    "    #display(df)\n",
    "    stocks_df = pd.concat([stocks_df,df])\n",
    "\n",
    "# convert the data types to be float for the numbers\n",
    "stocks_df[['Close','Open','High','Low']] = stocks_df[['Close','Open','High','Low']].astype(float)\n",
    "# convert the data to be correct\n",
    "stocks_df['Date'] = pd.to_datetime(stocks_df['Date'], format='%Y-%m-%d')\n",
    "\n",
    "#display(stocks_df.dtypes)\n",
    "#display(stocks_df)\n",
    "\n",
    "# save the CSV in one file\n",
    "#stocks_df.to_csv(f\"Resources/clean-HisotricalData.csv\",mode = 'w', index=False)"
   ]
  },
  {
   "cell_type": "code",
   "execution_count": null,
   "id": "60f277f4",
   "metadata": {},
   "outputs": [],
   "source": [
    "# get the average and variance of the monthly stock sample\n",
    "stocks = dict()\n",
    "stocks_monthly_df = None\n",
    "stocks_monthly_df = stocks_df.copy()\n",
    "stocks_monthly_df = stocks_monthly_df.set_index('Date')\n",
    "stocks_monthly_df = stocks_monthly_df.sort_index()\n",
    "for stockCode in stockCodes: \n",
    "    stocks[stockCode+'_mean'] = stocks_monthly_df.loc[stocks_monthly_df['StockCode'] == stockCode, 'Close':'Low'].resample('M').mean()\n",
    "    stocks[stockCode+'_var']  = stocks_monthly_df.loc[stocks_monthly_df['StockCode'] == stockCode, 'Close':'Low'].resample('M').var()"
   ]
  },
  {
   "cell_type": "code",
   "execution_count": null,
   "id": "d9b58494",
   "metadata": {},
   "outputs": [],
   "source": [
    "#plot the graph\n",
    "def display_plot(valuation, statistical_method, current_stock):\n",
    "    fig, ax = plt.subplots(figsize=(14,6))\n",
    "    plt.title(f\"{statistical_method} for {valuation} price vs Volume for {current_stock}\")\n",
    "\n",
    "    if statistical_method=='Variance':\n",
    "        statistical_method = 'var'\n",
    "    elif statistical_method=='Average':\n",
    "        statistical_method = 'mean'\n",
    "\n",
    "    stocks[current_stock+'_'+statistical_method].plot(y=[valuation], ax = ax, ylabel=valuation)\n",
    "    stocks[current_stock+'_'+statistical_method].plot(y=['Volume'], ax = ax, secondary_y=True, ylabel='Volume')\n",
    "\n",
    "    plt.show()\n",
    "\n",
    "# make the graph interactive\n",
    "interact(display_plot, \n",
    "         valuation=[\n",
    "             'High',\n",
    "             'Low',\n",
    "             'Open',\n",
    "             'Close',\n",
    "         ],\n",
    "         statistical_method = [\n",
    "            'Variance',\n",
    "            'Average',\n",
    "         ],\n",
    "         current_stock=[\n",
    "             ('Amazon', 'AMZN'),\n",
    "             ('Apple', 'APPL'),\n",
    "             ('Netflix', 'NFLX'),\n",
    "             ('Meta', 'META'),\n",
    "         ]);"
   ]
  },
  {
   "cell_type": "code",
   "execution_count": null,
   "id": "8022bc95",
   "metadata": {},
   "outputs": [],
   "source": []
  }
 ],
 "metadata": {
  "kernelspec": {
   "display_name": "Python 3 (ipykernel)",
   "language": "python",
   "name": "python3"
  },
  "language_info": {
   "codemirror_mode": {
    "name": "ipython",
    "version": 3
   },
   "file_extension": ".py",
   "mimetype": "text/x-python",
   "name": "python",
   "nbconvert_exporter": "python",
   "pygments_lexer": "ipython3",
   "version": "3.10.13"
  }
 },
 "nbformat": 4,
 "nbformat_minor": 5
}
